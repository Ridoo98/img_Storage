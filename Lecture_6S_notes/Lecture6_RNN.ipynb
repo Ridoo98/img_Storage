{
  "nbformat": 4,
  "nbformat_minor": 0,
  "metadata": {
    "colab": {
      "name": "Lecture6_RNN.ipynb",
      "provenance": []
    },
    "kernelspec": {
      "name": "python3",
      "display_name": "Python 3"
    },
    "language_info": {
      "name": "python"
    }
  },
  "cells": [
    {
      "cell_type": "markdown",
      "source": [
        "### **Sequence Modeling Applications**\n",
        "![](https://github.com/Ridoo98/img_Storage/blob/main/Lecture_6S_notes/RNN/1.png?raw=true)  \n",
        "![](https://github.com/Ridoo98/img_Storage/blob/main/Lecture_6S_notes/RNN/2.png?raw=true)\n",
        "![](https://github.com/Ridoo98/img_Storage/blob/main/Lecture_6S_notes/RNN/3.png?raw=true)\n",
        "![](https://github.com/Ridoo98/img_Storage/blob/main/Lecture_6S_notes/RNN/4.png?raw=true)\n",
        "![](https://github.com/Ridoo98/img_Storage/blob/main/Lecture_6S_notes/RNN/5.png?raw=true)\n",
        "![](https://github.com/Ridoo98/img_Storage/blob/main/Lecture_6S_notes/RNN/6.png?raw=true)\n",
        "![](https://github.com/Ridoo98/img_Storage/blob/main/Lecture_6S_notes/RNN/7.png?raw=true)\n",
        "![](https://github.com/Ridoo98/img_Storage/blob/main/Lecture_6S_notes/RNN/8.png?raw=true)\n",
        "![](https://github.com/Ridoo98/img_Storage/blob/main/Lecture_6S_notes/RNN/9.png?raw=true)\n",
        "![](https://github.com/Ridoo98/img_Storage/blob/main/Lecture_6S_notes/RNN/10.png?raw=true)\n",
        "![](https://github.com/Ridoo98/img_Storage/blob/main/Lecture_6S_notes/RNN/11.png?raw=true)\n",
        "![](https://github.com/Ridoo98/img_Storage/blob/main/Lecture_6S_notes/RNN/12.png?raw=true)\n",
        "![](https://github.com/Ridoo98/img_Storage/blob/main/Lecture_6S_notes/RNN/13.png?raw=true)\n",
        "![](https://github.com/Ridoo98/img_Storage/blob/main/Lecture_6S_notes/RNN/14.png?raw=true)\n",
        "![](https://github.com/Ridoo98/img_Storage/blob/main/Lecture_6S_notes/RNN/15.png?raw=true)\n",
        "![](https://github.com/Ridoo98/img_Storage/blob/main/Lecture_6S_notes/RNN/16.png?raw=true)\n",
        "![](https://github.com/Ridoo98/img_Storage/blob/main/Lecture_6S_notes/RNN/17.png?raw=true)\n",
        "![](https://github.com/Ridoo98/img_Storage/blob/main/Lecture_6S_notes/RNN/18.png?raw=true)\n",
        "![](https://github.com/Ridoo98/img_Storage/blob/main/Lecture_6S_notes/RNN/19.png?raw=true)\n",
        "![](https://github.com/Ridoo98/img_Storage/blob/main/Lecture_6S_notes/RNN/20.png?raw=true)\n",
        "![](https://github.com/Ridoo98/img_Storage/blob/main/Lecture_6S_notes/RNN/21.png?raw=true)\n",
        "![](https://github.com/Ridoo98/img_Storage/blob/main/Lecture_6S_notes/RNN/22.png?raw=true)\n",
        "![](https://github.com/Ridoo98/img_Storage/blob/main/Lecture_6S_notes/RNN/23.png?raw=true)\n",
        "![](https://github.com/Ridoo98/img_Storage/blob/main/Lecture_6S_notes/RNN/24.png?raw=true)\n",
        "![](https://github.com/Ridoo98/img_Storage/blob/main/Lecture_6S_notes/RNN/25.png?raw=true)\n",
        "![](https://github.com/Ridoo98/img_Storage/blob/main/Lecture_6S_notes/RNN/26.png?raw=true)\n",
        "![](https://github.com/Ridoo98/img_Storage/blob/main/Lecture_6S_notes/RNN/27.png?raw=true)\n",
        "![](https://github.com/Ridoo98/img_Storage/blob/main/Lecture_6S_notes/RNN/28.png?raw=true)\n",
        "![](https://github.com/Ridoo98/img_Storage/blob/main/Lecture_6S_notes/RNN/29.png?raw=true)\n",
        "![](https://github.com/Ridoo98/img_Storage/blob/main/Lecture_6S_notes/RNN/30.png?raw=true)\n",
        "![](https://github.com/Ridoo98/img_Storage/blob/main/Lecture_6S_notes/RNN/32.png?raw=true)\n",
        "![](https://github.com/Ridoo98/img_Storage/blob/main/Lecture_6S_notes/RNN/33.png?raw=true)"
      ],
      "metadata": {
        "id": "tSicxvcuXb9t"
      }
    }
  ]
}